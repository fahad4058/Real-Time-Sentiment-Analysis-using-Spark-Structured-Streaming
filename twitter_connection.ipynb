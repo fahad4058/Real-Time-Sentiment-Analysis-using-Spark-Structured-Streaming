{
 "cells": [
  {
   "cell_type": "markdown",
   "id": "613ff06a",
   "metadata": {},
   "source": [
    "## Initializations and Importing necessary libraries and Modules"
   ]
  },
  {
   "cell_type": "code",
   "execution_count": 1,
   "id": "7d3e756d",
   "metadata": {},
   "outputs": [],
   "source": [
    "import tweepy\n",
    "from tweepy import Stream\n",
    "from tweepy import OAuthHandler\n",
    "import socket\n",
    "import json\n",
    "import pandas as pd\n",
    "import time"
   ]
  },
  {
   "cell_type": "markdown",
   "id": "11fbf9fc",
   "metadata": {},
   "source": [
    "### Twitter API authorization\n",
    "#### Secret Keys"
   ]
  },
  {
   "cell_type": "code",
   "execution_count": 2,
   "id": "9fd204df",
   "metadata": {},
   "outputs": [],
   "source": [
    "consumer_key=\"Insert Here\"\n",
    "consumer_secret=\"Insert Here\"\n",
    "bearer_token=\"Insert Here\"\n",
    "access_token=\"Insert Here\"\n",
    "access_secret=\"Insert Here\""
   ]
  },
  {
   "cell_type": "markdown",
   "id": "5f6bcdc5",
   "metadata": {},
   "source": [
    "### Tweets Listener class for establishing connection and reading/downloading tweets "
   ]
  },
  {
   "cell_type": "code",
   "execution_count": 3,
   "id": "214c01c8",
   "metadata": {},
   "outputs": [],
   "source": [
    "\n",
    "class TweetsListener(tweepy.Stream):\n",
    "      def __init__(self,csocket,time_limit=300):\n",
    "            self.client_socket = csocket\n",
    "            self.start_time = time.time()\n",
    "            self.limit = time_limit\n",
    "            super(TweetsListener, self).__init__(consumer_key,consumer_secret,\\\n",
    "                                                 access_token,access_secret)\n",
    "\n",
    "      def on_data(self, data):\n",
    "          try:\n",
    "              msg = json.loads( data )\n",
    "              print( msg['text'].encode('utf-8') )\n",
    "              self.client_socket.send((str(msg['text']) + \"\\n\").encode('utf-8') )\n",
    "              \n",
    "              if (time.time() - self.start_time) > self.limit:\n",
    "                  print(time.time(), self.start_time, self.limit)\n",
    "                  TweetsListener.disconnect(self)\n",
    "                  return False\n",
    "              else:\n",
    "                  return True\n",
    "          except BaseException as e:\n",
    "            print(\"Error on_data: %s\" % str(e))\n",
    "            TweetsListener.disconnect(self)\n",
    "            return False\n",
    "\n",
    "      def on_error(self, status):\n",
    "          print(status)\n",
    "          return True\n",
    "\n",
    "def sendData(c_socket):\n",
    "  auth = OAuthHandler(consumer_key, consumer_secret)\n",
    "  auth.set_access_token(access_token, access_secret)\n",
    "\n",
    "  twitter_stream = TweetsListener(c_socket)\n",
    "  twitter_stream.filter(track=['Manchester United'])"
   ]
  },
  {
   "cell_type": "markdown",
   "id": "93090cd7",
   "metadata": {},
   "source": [
    "## Main Function "
   ]
  },
  {
   "cell_type": "code",
   "execution_count": 4,
   "id": "436c4ab3",
   "metadata": {
    "scrolled": true
   },
   "outputs": [
    {
     "name": "stdout",
     "output_type": "stream",
     "text": [
      "Listening on port: 51602\n",
      "Received request from: ('127.0.0.1', 64190)\n",
      "b'RT @MUFC_redarmy99: Brentford\\xe2\\x80\\x99s goal scorer: \\xc2\\xa310m\\nAll three of Man United\\xe2\\x80\\x99s goal scorers: \\xc2\\xa30.'\n",
      "b'RT @MUFCUnitedKits: #OTD in 1994. We lost Mr Manchester United\\n\\nThe Great Sir Matt Busby envisaged a pathway that encompassed all what was\\xe2\\x80\\xa6'\n",
      "b'RT @Jmfmourinho00: - Dani Alves au Bar\\xc3\\xa7a.\\n- Mourinho en Italie. \\n- Cr7 \\xc3\\xa0 Manchester United.  \\n- L\\xe2\\x80\\x99OM sur le podium. \\n- Des gens croient en\\xe2\\x80\\xa6'\n",
      "b'RT @brfootball: \\xe2\\x96\\xaa\\xef\\xb8\\x8f Manchester United become the first team to get 300 away wins in Premier League history\\n\\n\\xe2\\x96\\xaa\\xef\\xb8\\x8f Manchester United Women beat\\xe2\\x80\\xa6'\n",
      "b'RT @WilliamHill: Only four teams have won 200+ away games in Premier League history:\\n\\n\\xf0\\x9f\\x94\\xb4 300 - Manchester United\\n\\xf0\\x9f\\x94\\xb5 258 - Chelsea\\n\\xf0\\x9f\\x94\\xb4 246 - Ars\\xe2\\x80\\xa6'\n",
      "b'RT @AidanWalshMUFC: Manchester United academy in full swing \\xe2\\xad\\x90\\xef\\xb8\\x8f https://t.co/s1VQK8Yxy7'\n",
      "b'RT @FernandesZone: The players with the most goals contribution for Manchester United in the Premier League this season so far :\\n\\n\\xe2\\x80\\xa2 BRUNO F\\xe2\\x80\\xa6'\n",
      "b'This guy is so obsessed \\xf0\\x9f\\x92\\x80'\n",
      "b\"RT @ManUtdMEN: Paul Pogba 'undecided' on his transfer plans #mufc https://t.co/Hd27caopnN https://t.co/l7nrF1ld8c\"\n",
      "b'RT @Letter_to_Jack: Tottenham are 8 points behind Chelsea with 4 games in Hand. \\n\\nArsenal are 9 points behind Chelsea with 3 games in hand.\\xe2\\x80\\xa6'\n",
      "b'RT @ManUtd_ID: Line up \"When We Were Young\" versi pendukung Manchester United \\xf0\\x9f\\x92\\xab\\n\\n#MUFC https://t.co/NAE7cA5NeU'\n",
      "b'Manchester United: Cristiano Ronaldo furieux d\\xe2\\x80\\x99avoir \\xc3\\xa9t\\xc3\\xa9 remplac\\xc3\\xa9 face \\xc3\\xa0 Brentford, Rangnick temp\\xc3\\xa8re et explique so\\xe2\\x80\\xa6 https://t.co/fzLtskjkW6'\n",
      "b'RT @goal: Manchester United are the first team to win 300 away games in the Premier League \\xf0\\x9f\\x94\\xb4 https://t.co/H8kZmotUcq'\n",
      "b'RT @ManagingBarca: \\xf0\\x9f\\x9a\\xa8| Manchester United are NOT considering signing Ousmane Demb\\xc3\\xa9l\\xc3\\xa9 in January.\\n@FabrizioRomano [\\xf0\\x9f\\x8e\\x96\\xef\\xb8\\x8f] @Twitch'\n",
      "b'RT @Myka_veli: Chelsea and Manchester United fans agreeing that Moses Simon is better than all their wingers https://t.co/QsUqWtZQ6o'\n",
      "b'RT @kafangi: 240k Manchester United fans ,stop the count! https://t.co/28MQAdump6'\n",
      "b'Meu furac\\xc3\\xa3o \\xc3\\xa9 sinistro! Barcelona? Manchester united? Liverpool? PSG? ATHLETICO-PR &gt;&gt;&gt; all'\n",
      "b'RT @Akwaibomtoolz: Men who support Manchester United are special and simply the best, I love you all from the depth of my heart \\xe2\\x9d\\xa4 #MUFC'\n",
      "b'RT @DIRECTVSports: \\xf0\\x9f\\x97\\xa3\\xef\\xb8\\x8f Ralf Ragnick se refiri\\xc3\\xb3 al enojo de Cristiano Ronaldo tras ser sustituido ayer, en el triunfo del Manchester United.\\xe2\\x80\\xa6'\n",
      "b'RT @C345Sam: Manchester United have opened the door to a move for Ousmane Dembele this month and would be \\xe2\\x80\\x98willing\\xe2\\x80\\x99 to sign him if he is al\\xe2\\x80\\xa6'\n",
      "b'RT @GNev2: Brentford 0-3 Manchester United (Youth)'\n",
      "b'Jesse Lingard\\xe2\\x80\\x99s stats last time he was out on loan with @westham:\\n\\n\\xf0\\x9f\\x91\\x95 16 Appearances \\n\\xe2\\x9a\\xbd\\xef\\xb8\\x8f 9 Goals \\n\\xf0\\x9f\\x85\\xb0\\xef\\xb8\\x8f 4 Assists \\n\\n\\xf0\\x9f\\x97\\xa3 \\xe2\\x80\\x9c\\xe2\\x80\\xa6 https://t.co/WXstIazCyK'\n",
      "b'RT @WolvesFC_latest: \"Kilman is currently the best English centre-back in the Premier League, so United might have made a rod for their own\\xe2\\x80\\xa6'\n",
      "b'RT @Caleb_Mufc: Can we all agree that the greatest thing Ralf Rangnick has done as Manchester United manager thus far is drop Harry Maguire\\xe2\\x80\\xa6'\n",
      "b'RT @QueenMancunian: Can we all tell Maguire that,when the ball is in our box, he\\xe2\\x80\\x99s not supposed to be Tackling his own players but the oppo\\xe2\\x80\\xa6'\n",
      "b'RT @Jmfmourinho00: - Dani Alves au Bar\\xc3\\xa7a.\\n- Mourinho en Italie. \\n- Cr7 \\xc3\\xa0 Manchester United.  \\n- L\\xe2\\x80\\x99OM sur le podium. \\n- Des gens croient en\\xe2\\x80\\xa6'\n",
      "b'RT @MUFCUnitedKits: \\xf0\\x9f\\x8e\\xb5\\xf0\\x9f\\x8e\\xb6 \\xe2\\x80\\x9cManchester, Manchester United..\\n\\nA bunch of bouncing Busby Babes\\nThey deserve to be knighted!\\n\\nIf ever they are pla\\xe2\\x80\\xa6'\n",
      "b\"RT @comradefyat: May I interrupt your timeline for a moment please. I know it's a Mandi day but I have important news to convene, if you al\\xe2\\x80\\xa6\"\n",
      "b'RT @brfootball: Manchester United make Premier League history \\xf0\\x9f\\x91\\x8f https://t.co/QO0fU2uSGZ'\n",
      "b\"RT @goal: Cristiano Ronaldo returns to Manchester United's starting XI \\xf0\\x9f\\x94\\xb4 https://t.co/tDIgilGMPY\"\n",
      "b'RT @C345Sam: Manchester United have opened the door to a move for Ousmane Dembele this month and would be \\xe2\\x80\\x98willing\\xe2\\x80\\x99 to sign him if he is al\\xe2\\x80\\xa6'\n",
      "b\"RT @_BeFoot: Il y a 5 ans jour pour jour, Memphis Depay quittait Manchester United et s'engageait \\xc3\\xa0 l'OL ! \\xf0\\x9f\\xa6\\x81\\xf0\\x9f\\x87\\xb3\\xf0\\x9f\\x87\\xb1 https://t.co/fmDs7PJG7K\"\n",
      "b'RT @goal: Manchester United are the first team to win 300 away games in the Premier League \\xf0\\x9f\\x94\\xb4 https://t.co/H8kZmotUcq'\n",
      "b'RT @Jmfmourinho00: - Dani Alves au Bar\\xc3\\xa7a.\\n- Mourinho en Italie. \\n- Cr7 \\xc3\\xa0 Manchester United.  \\n- L\\xe2\\x80\\x99OM sur le podium. \\n- Des gens croient en\\xe2\\x80\\xa6'\n",
      "b'RT @kafangi: 240k Manchester United fans ,stop the count! https://t.co/28MQAdump6'\n",
      "b'RT @Jmfmourinho00: - Dani Alves au Bar\\xc3\\xa7a.\\n- Mourinho en Italie. \\n- Cr7 \\xc3\\xa0 Manchester United.  \\n- L\\xe2\\x80\\x99OM sur le podium. \\n- Des gens croient en\\xe2\\x80\\xa6'\n",
      "b'2\\xe5\\xb9\\xb4\\xe3\\x81\\xa8\\xe5\\xb0\\x91\\xe3\\x81\\x97\\xe5\\x89\\x8d\\xe3\\x81\\xab\\xe3\\x82\\x82\\xe5\\x99\\x82\\xe3\\x81\\xab\\xe3\\x81\\xaa\\xe3\\x81\\xa3\\xe3\\x81\\xa6\\xe3\\x81\\x84\\xe3\\x81\\xbe\\xe3\\x81\\x97\\xe3\\x81\\x9f\\xf0\\x9f\\x99\\x8b\\xf0\\x9f\\x8f\\xbb\\xe2\\x80\\x8d\\xe2\\x99\\x82\\xef\\xb8\\x8f'\n",
      "b'RT @retro_manutd: #OTD 28 years ago, Manchester Utd and footballing world lost one of the founders of modern football. Sir Matt Busby passe\\xe2\\x80\\xa6'\n",
      "b'RT @Jmfmourinho00: - Dani Alves au Bar\\xc3\\xa7a.\\n- Mourinho en Italie. \\n- Cr7 \\xc3\\xa0 Manchester United.  \\n- L\\xe2\\x80\\x99OM sur le podium. \\n- Des gens croient en\\xe2\\x80\\xa6'\n",
      "b'RT @EIIisV3: If you\\xe2\\x80\\x99re a Manchester United fan and have an agenda against David De Gea then your hard drive needs to be checked.'\n",
      "b'@FabrizioRomano Manchester united, that is your boy. Go get him now..'\n",
      "b'RT @AidanWalshMUFC: Manchester United academy in full swing \\xe2\\xad\\x90\\xef\\xb8\\x8f https://t.co/s1VQK8Yxy7'\n",
      "b'RT @brfootball: Manchester United make Premier League history \\xf0\\x9f\\x91\\x8f https://t.co/QO0fU2uSGZ'\n",
      "b'RT @FaktaSepakbola: Gol dari 3 pemain produk akademi sendiri, membantu Manchester United menang 3-1 di kandang Brentford \\xf0\\x9f\\x92\\xa5 https://t.co/WMu\\xe2\\x80\\xa6'\n",
      "b'RT @brfootball: Elanga \\xe2\\x9a\\xbd\\nGreenwood \\xe2\\x9a\\xbd\\nRashford \\xe2\\x9a\\xbd\\n\\nA win made by the Manchester United academy \\xf0\\x9f\\x98\\xa4 https://t.co/YYghUzB69t'\n",
      "b'Loling every team has done it this season. Even Norwich!'\n",
      "b'RT @Jmfmourinho00: - Dani Alves au Bar\\xc3\\xa7a.\\n- Mourinho en Italie. \\n- Cr7 \\xc3\\xa0 Manchester United.  \\n- L\\xe2\\x80\\x99OM sur le podium. \\n- Des gens croient en\\xe2\\x80\\xa6'\n",
      "b\"RT @utdreport: Manchester United's win over Brentford is the club's 300th away win in the Premier League \\xf0\\x9f\\x92\\xaa https://t.co/4Ut51pbEmD\"\n",
      "b'\\xe3\\x81\\xa9\\xe3\\x81\\xa3\\xe3\\x81\\x8b\\xe3\\x81\\xa7\\xe3\\x81\\xbf\\xe3\\x81\\x9f\\xe3\\x81\\x93\\xe3\\x82\\x8c'\n",
      "b'RT @Jmfmourinho00: - Dani Alves au Bar\\xc3\\xa7a.\\n- Mourinho en Italie. \\n- Cr7 \\xc3\\xa0 Manchester United.  \\n- L\\xe2\\x80\\x99OM sur le podium. \\n- Des gens croient en\\xe2\\x80\\xa6'\n",
      "b\"\\xf0\\x9d\\x90\\x8c\\xf0\\x9d\\x90\\x80\\xf0\\x9d\\x90\\x8d\\xf0\\x9d\\x90\\x82\\xf0\\x9d\\x90\\x87\\xf0\\x9d\\x90\\x84\\xf0\\x9d\\x90\\x92\\xf0\\x9d\\x90\\x93\\xf0\\x9d\\x90\\x84\\xf0\\x9d\\x90\\x91 \\xf0\\x9d\\x90\\x91\\xf0\\x9d\\x90\\x88\\xf0\\x9d\\x90\\x95\\xf0\\x9d\\x90\\x80\\xf0\\x9d\\x90\\x8b\\xf0\\x9d\\x90\\x92 \\xf0\\x9d\\x90\\x93\\xf0\\x9d\\x90\\x8e \\xf0\\x9d\\x90\\x8c\\xf0\\x9d\\x90\\x84\\xf0\\x9d\\x90\\x84\\xf0\\x9d\\x90\\x93 \\xf0\\x9d\\x90\\x80\\xf0\\x9d\\x90\\x93 \\xf0\\x9d\\x90\\x92\\xf0\\x9d\\x90\\x93\\xf0\\x9d\\x90\\x80\\xf0\\x9d\\x90\\x83\\xf0\\x9d\\x90\\x84 \\xf0\\x9d\\x90\\x83\\xf0\\x9d\\x90\\x84 \\xf0\\x9d\\x90\\x89\\xf0\\x9d\\x90\\x80\\xf0\\x9d\\x90\\x8f\\xf0\\x9d\\x90\\x8e\\xf0\\x9d\\x90\\x8c\\xf0\\x9d\\x90\\x80,\\xf0\\x9d\\x90\\x83\\xf0\\x9d\\x90\\x8e\\xf0\\x9d\\x90\\x94\\xf0\\x9d\\x90\\x80\\xf0\\x9d\\x90\\x8b\\xf0\\x9d\\x90\\x80\\xf0\\x9f\\x94\\xb4\\xf0\\x9f\\x94\\xb5\\n\\nManchester United's Eric Baily &amp; Manchester City's Riyad Mah\\xe2\\x80\\xa6 https://t.co/jRXuuURZaX\"\n"
     ]
    },
    {
     "name": "stdout",
     "output_type": "stream",
     "text": [
      "b'RT @brfootball: Manchester United make Premier League history \\xf0\\x9f\\x91\\x8f https://t.co/QO0fU2uSGZ'\n",
      "b'RT @goal: Manchester United are the first team to win 300 away games in the Premier League \\xf0\\x9f\\x94\\xb4 https://t.co/H8kZmotUcq'\n",
      "b'manchester united fans wanted this guy btw\\xf0\\x9f\\x98\\xad\\xf0\\x9f\\x98\\xad\\xf0\\x9f\\x98\\xad\\xf0\\x9f\\x98\\xad\\xf0\\x9f\\x98\\xad\\xf0\\x9f\\x98\\xad\\xf0\\x9f\\x98\\xad\\xf0\\x9f\\x98\\xad'\n",
      "b'RT @comradefyat: \\xf0\\x9f\\xa4\\xa3\\xf0\\x9f\\x98\\xad\\xf0\\x9f\\x98\\xad\\xf0\\x9f\\x98\\xad\\xf0\\x9f\\x98\\xad'\n",
      "b'RT @breathMessi21: Ronaldo wants to play for 5 more years. God bless Manchester United\\xf0\\x9f\\x98\\x82\\xf0\\x9f\\x98\\x82'\n",
      "b'RT @Jmfmourinho00: - Dani Alves au Bar\\xc3\\xa7a.\\n- Mourinho en Italie. \\n- Cr7 \\xc3\\xa0 Manchester United.  \\n- L\\xe2\\x80\\x99OM sur le podium. \\n- Des gens croient en\\xe2\\x80\\xa6'\n",
      "b'RT @RW_afc: This guy ain\\xe2\\x80\\x99t serious\\xf0\\x9f\\x98\\xad\\xf0\\x9f\\x98\\xad https://t.co/fU9P2LE5Ut'\n",
      "b'RT @TheTransferOne: \\xf0\\x9f\\x9a\\xa8 Understand Jesse Lingard very tempted to leave Manchester United this month in search of first team football and pote\\xe2\\x80\\xa6'\n",
      "b'RT @goal: Manchester United are the first team to win 300 away games in the Premier League \\xf0\\x9f\\x94\\xb4 https://t.co/H8kZmotUcq'\n",
      "b'RT @FernandesZone: The players with the most goals contribution for Manchester United in the Premier League this season so far :\\n\\n\\xe2\\x80\\xa2 BRUNO F\\xe2\\x80\\xa6'\n",
      "b\"RT @GOALAfrica: \\xf0\\x9d\\x90\\x8c\\xf0\\x9d\\x90\\x80\\xf0\\x9d\\x90\\x8d\\xf0\\x9d\\x90\\x82\\xf0\\x9d\\x90\\x87\\xf0\\x9d\\x90\\x84\\xf0\\x9d\\x90\\x92\\xf0\\x9d\\x90\\x93\\xf0\\x9d\\x90\\x84\\xf0\\x9d\\x90\\x91 \\xf0\\x9d\\x90\\x91\\xf0\\x9d\\x90\\x88\\xf0\\x9d\\x90\\x95\\xf0\\x9d\\x90\\x80\\xf0\\x9d\\x90\\x8b\\xf0\\x9d\\x90\\x92 \\xf0\\x9d\\x90\\x93\\xf0\\x9d\\x90\\x8e \\xf0\\x9d\\x90\\x8c\\xf0\\x9d\\x90\\x84\\xf0\\x9d\\x90\\x84\\xf0\\x9d\\x90\\x93 \\xf0\\x9d\\x90\\x80\\xf0\\x9d\\x90\\x93 \\xf0\\x9d\\x90\\x92\\xf0\\x9d\\x90\\x93\\xf0\\x9d\\x90\\x80\\xf0\\x9d\\x90\\x83\\xf0\\x9d\\x90\\x84 \\xf0\\x9d\\x90\\x83\\xf0\\x9d\\x90\\x84 \\xf0\\x9d\\x90\\x89\\xf0\\x9d\\x90\\x80\\xf0\\x9d\\x90\\x8f\\xf0\\x9d\\x90\\x8e\\xf0\\x9d\\x90\\x8c\\xf0\\x9d\\x90\\x80,\\xf0\\x9d\\x90\\x83\\xf0\\x9d\\x90\\x8e\\xf0\\x9d\\x90\\x94\\xf0\\x9d\\x90\\x80\\xf0\\x9d\\x90\\x8b\\xf0\\x9d\\x90\\x80\\xf0\\x9f\\x94\\xb4\\xf0\\x9f\\x94\\xb5\\n\\nManchester United's Eric Baily &amp; Manchester City's Riyad Mahrez will\\xe2\\x80\\xa6\"\n",
      "b'RT @FernandesZone: The players with the most goals contribution for Manchester United in the Premier League this season so far :\\n\\n\\xe2\\x80\\xa2 BRUNO F\\xe2\\x80\\xa6'\n",
      "b\"\\xf0\\x9d\\x90\\x8c\\xf0\\x9d\\x90\\x80\\xf0\\x9d\\x90\\x8d\\xf0\\x9d\\x90\\x82\\xf0\\x9d\\x90\\x87\\xf0\\x9d\\x90\\x84\\xf0\\x9d\\x90\\x92\\xf0\\x9d\\x90\\x93\\xf0\\x9d\\x90\\x84\\xf0\\x9d\\x90\\x91 \\xf0\\x9d\\x90\\x91\\xf0\\x9d\\x90\\x88\\xf0\\x9d\\x90\\x95\\xf0\\x9d\\x90\\x80\\xf0\\x9d\\x90\\x8b\\xf0\\x9d\\x90\\x92 \\xf0\\x9d\\x90\\x93\\xf0\\x9d\\x90\\x8e \\xf0\\x9d\\x90\\x8c\\xf0\\x9d\\x90\\x84\\xf0\\x9d\\x90\\x84\\xf0\\x9d\\x90\\x93 \\xf0\\x9d\\x90\\x80\\xf0\\x9d\\x90\\x93 \\xf0\\x9d\\x90\\x92\\xf0\\x9d\\x90\\x93\\xf0\\x9d\\x90\\x80\\xf0\\x9d\\x90\\x83\\xf0\\x9d\\x90\\x84 \\xf0\\x9d\\x90\\x83\\xf0\\x9d\\x90\\x84 \\xf0\\x9d\\x90\\x89\\xf0\\x9d\\x90\\x80\\xf0\\x9d\\x90\\x8f\\xf0\\x9d\\x90\\x8e\\xf0\\x9d\\x90\\x8c\\xf0\\x9d\\x90\\x80,\\xf0\\x9d\\x90\\x83\\xf0\\x9d\\x90\\x8e\\xf0\\x9d\\x90\\x94\\xf0\\x9d\\x90\\x80\\xf0\\x9d\\x90\\x8b\\xf0\\x9d\\x90\\x80\\xf0\\x9f\\x94\\xb4\\xf0\\x9f\\x94\\xb5\\n\\nManchester United's Eric Baily &amp; Manchester City's Riyad Mah\\xe2\\x80\\xa6 https://t.co/trB7RSoRJy\"\n",
      "b'RT @FootyAccums: \\xf0\\x9f\\x97\\xa3Thomas Frank,\\n\\n\"We are the smallest club in the Premier League, Manchester United the biggest, we destroyed them in the f\\xe2\\x80\\xa6'\n",
      "b'RT @brfootball: Manchester United make Premier League history \\xf0\\x9f\\x91\\x8f https://t.co/QO0fU2uSGZ'\n",
      "b'RT @Caleb_Mufc: Can we all agree that the greatest thing Ralf Rangnick has done as Manchester United manager thus far is drop Harry Maguire\\xe2\\x80\\xa6'\n",
      "b'Average age was higher than ours stupid twat'\n",
      "b\"RT @WhoScored: \\xf0\\x9f\\x8e\\xa9 Bruno Fernandes has played a direct hand in four goals in Manchester United's last two league matches, as many as his prev\\xe2\\x80\\xa6\"\n",
      "b'RT @MUFC_redarmy99: Brentford\\xe2\\x80\\x99s goal scorer: \\xc2\\xa310m\\nAll three of Man United\\xe2\\x80\\x99s goal scorers: \\xc2\\xa30.'\n",
      "b'RT @hadrien_grenier: Il y a encore des contacts entre Manchester United et Mauricio Pochettino \\xf0\\x9f\\x87\\xa6\\xf0\\x9f\\x87\\xb7. Son entourage a tout fait pour qu\\xe2\\x80\\x99il par\\xe2\\x80\\xa6'\n",
      "b'RT @marky_carter: The heart and soul of Manchester United. His legacy will always live on. . .. Sir Matt \\xe2\\x9d\\xa4\\xef\\xb8\\x8f #MUFC https://t.co/XEEJmUIxxX'\n",
      "b\"The downside of this great form is that he probably won't even win the golden glove because we're not keeping enoug\\xe2\\x80\\xa6 https://t.co/Al0rRji2q0\"\n",
      "b\"RT @WhoScored: \\xe2\\xad\\x90 Scott McTominay has won the WhoScored Man of the Match award in three of Ralf Rangnick's first nine matches in charge of M\\xe2\\x80\\xa6\"\n",
      "b'RT @Jmfmourinho00: - Dani Alves au Bar\\xc3\\xa7a.\\n- Mourinho en Italie. \\n- Cr7 \\xc3\\xa0 Manchester United.  \\n- L\\xe2\\x80\\x99OM sur le podium. \\n- Des gens croient en\\xe2\\x80\\xa6'\n",
      "b'EXPLICA\\xc3\\x87\\xc3\\x83O! \\xe2\\x9a\\xbd\\xef\\xb8\\x8f\\xf0\\x9f\\x91\\x80\\xf0\\x9f\\x8f\\xb4\\xf3\\xa0\\x81\\xa7\\xf3\\xa0\\x81\\xa2\\xf3\\xa0\\x81\\xa5\\xf3\\xa0\\x81\\xae\\xf3\\xa0\\x81\\xa7\\xf3\\xa0\\x81\\xbf\\n\\nT\\xc3\\xa9cnico do Manchester United, Ralf Rangnick, explica decis\\xc3\\xa3o que irritou Cristiano Ronaldo\\xe2\\x80\\xa6 https://t.co/ZDAMeR6e5E'\n",
      "b'RT @Jmfmourinho00: - Dani Alves au Bar\\xc3\\xa7a.\\n- Mourinho en Italie. \\n- Cr7 \\xc3\\xa0 Manchester United.  \\n- L\\xe2\\x80\\x99OM sur le podium. \\n- Des gens croient en\\xe2\\x80\\xa6'\n",
      "b'RT @WhoScored: \\xf0\\x9f\\x98\\xaf After managing one assist in his first 86 Premier League appearances for Manchester United, Fred has registered three in h\\xe2\\x80\\xa6'\n",
      "b'RT @ManUnitedZone_: Manchester United become the first Premier League team to reach 300 away wins \\xf0\\x9f\\x94\\xb4'\n",
      "b'@MiguelDelaney Yeah funny he blabs about destroying Manchester united when brenford didn even score before half tim\\xe2\\x80\\xa6 https://t.co/lFFZal4CYf'\n",
      "b'RT @brfootball: Manchester United make Premier League history \\xf0\\x9f\\x91\\x8f https://t.co/QO0fU2uSGZ'\n",
      "b'RT @UtdOptimist: I\\xe2\\x80\\x99m begging you, keep Ousmane Dembele very far away from Manchester United.'\n",
      "b'Get a load of this guy. \\xe2\\x80\\x9cIndividual success\\xe2\\x80\\x9d. You\\xe2\\x80\\x99re not a Manchester United fan then pal. You are a Marcus Rashfor\\xe2\\x80\\xa6 https://t.co/iz7qcAOj8O'\n",
      "b'RT @Letter_to_Jack: Tottenham are 8 points behind Chelsea with 4 games in Hand. \\n\\nArsenal are 9 points behind Chelsea with 3 games in hand.\\xe2\\x80\\xa6'\n",
      "b'Brentford - Manchester United: Rangnick ch\\xc6\\xa1i 4-3-3, Elanga v\\xc3\\xa0 ... #Manchester_United #Brentford #- #Manchester\\xe2\\x80\\xa6 https://t.co/k0l4P2leVc'\n",
      "b'RT @Jmfmourinho00: - Dani Alves au Bar\\xc3\\xa7a.\\n- Mourinho en Italie. \\n- Cr7 \\xc3\\xa0 Manchester United.  \\n- L\\xe2\\x80\\x99OM sur le podium. \\n- Des gens croient en\\xe2\\x80\\xa6'\n",
      "b'@badboiblaccc @ultimate_kombo @Easy_Tigerrrr Love what ? Greenwood was 2 years when Manchester United signed Cristi\\xe2\\x80\\xa6 https://t.co/l6dp80tUNT'\n",
      "b'RT @bae_manchester: Goodmorng friends of Manchester united \\xe2\\x9d\\xa4\\xef\\xb8\\x8f\\xe2\\x9d\\xa4\\xef\\xb8\\x8f\\xe2\\x9d\\xa4\\xef\\xb8\\x8f\\xe2\\x9d\\xa4\\xef\\xb8\\x8f\\xe2\\x9d\\xa4\\xef\\xb8\\x8f\\n\\nIts a Throw back\\nLet us be mutuals\\xf0\\x9f\\x98\\x98\\xf0\\x9f\\x98\\x98 https://t.co/JhpEbsLmrh'\n",
      "b'@DillanGaf @ZinnySZN Football was different back then when a young Rooney signed for Manchester United for  20 mill\\xe2\\x80\\xa6 https://t.co/tF7pm6pi3U'\n",
      "b'\\xf0\\x9f\\x98\\xad\\xf0\\x9f\\x98\\xad\\xf0\\x9f\\x98\\xad'\n",
      "b'RT @ManUnitedZone_: Manchester United become the first Premier League team to reach 300 away wins \\xf0\\x9f\\x94\\xb4'\n",
      "b'RT @Jmfmourinho00: - Dani Alves au Bar\\xc3\\xa7a.\\n- Mourinho en Italie. \\n- Cr7 \\xc3\\xa0 Manchester United.  \\n- L\\xe2\\x80\\x99OM sur le podium. \\n- Des gens croient en\\xe2\\x80\\xa6'\n",
      "b'RT @Bet9jaOfficial: Ralf Rangnick has told the Manchester United hierarchy that Luke Shaw, Aaron Wan-Bissaka and Harry Maguire are not good\\xe2\\x80\\xa6'\n",
      "b'@BBCSport BBC. The official source for all Manchester United news.\\n\\nOther clubs are available.'\n",
      "b'RT @FernandesZone: The players with the most goals contribution for Manchester United in the Premier League this season so far :\\n\\n\\xe2\\x80\\xa2 BRUNO F\\xe2\\x80\\xa6'\n",
      "b'Moses Simon is the player Manchester United fans wish Jadon Sancho was.\\xf0\\x9f\\xa4\\xa3'\n"
     ]
    },
    {
     "name": "stdout",
     "output_type": "stream",
     "text": [
      "b'RT @MUFC_redarmy99: Brentford\\xe2\\x80\\x99s goal scorer: \\xc2\\xa310m\\nAll three of Man United\\xe2\\x80\\x99s goal scorers: \\xc2\\xa30.'\n",
      "b'RT @FernandesZone: The players with the most goals contribution for Manchester United in the Premier League this season so far :\\n\\n\\xe2\\x80\\xa2 BRUNO F\\xe2\\x80\\xa6'\n",
      "b'Not welcome back'\n",
      "b'RT @Jmfmourinho00: - Dani Alves au Bar\\xc3\\xa7a.\\n- Mourinho en Italie. \\n- Cr7 \\xc3\\xa0 Manchester United.  \\n- L\\xe2\\x80\\x99OM sur le podium. \\n- Des gens croient en\\xe2\\x80\\xa6'\n",
      "b'RT @FernandesZone: The players with the most goals contribution for Manchester United in the Premier League this season so far :\\n\\n\\xe2\\x80\\xa2 BRUNO F\\xe2\\x80\\xa6'\n",
      "b'Which is frustrating. Whenever I see the absolute monstrosities that Puma cook up for City, it gets me thinking tha\\xe2\\x80\\xa6 https://t.co/WMGmZeaoSn'\n",
      "b'RT @footballl1878: Maguire shaw awb https://t.co/S43MU4ZmiU'\n",
      "b'All that to gain 0 points. Shut up.'\n",
      "b'RT @Jmfmourinho00: - Dani Alves au Bar\\xc3\\xa7a.\\n- Mourinho en Italie. \\n- Cr7 \\xc3\\xa0 Manchester United.  \\n- L\\xe2\\x80\\x99OM sur le podium. \\n- Des gens croient en\\xe2\\x80\\xa6'\n",
      "b'RT @bennimx: Not a single Chelsea player starts for Manchester United!!!'\n",
      "b'RT @CFCPys: Ousmane Dembele Update \\xf0\\x9f\\x87\\xab\\xf0\\x9f\\x87\\xb7 \\n\\nChelsea and Newcastle have had contacts with his agent, Manchester United are NOT in the race \\xe2\\x9d\\x8c \\n\\nJ\\xe2\\x80\\xa6'\n",
      "b'RT @AliquamScripto: I\\xe2\\x80\\x99d take this more seriously if you weren\\xe2\\x80\\x99t out here defending Ole'\n",
      "b\"RT @Soccer_Laduma: Paul Pogba has communicated to Manchester United's top brass that he wants to leave at the end of the season, and has ma\\xe2\\x80\\xa6\"\n",
      "b'Maguire as CDM makes much more sense'\n",
      "b\"RT @Pgreco_: Sono indeciso se comprare l'iPhone 13 pro da 256 GB, o il Manchester United.\"\n",
      "b'RT @OptaJoe: 300 - @ManUtd have won their 300th Premier League away game, the first team to reach the milestone in the competition:\\n\\n300 -\\xe2\\x80\\xa6'\n",
      "b'RT @Bet9jaOfficial: Ralf Rangnick has told the Manchester United hierarchy that Luke Shaw, Aaron Wan-Bissaka and Harry Maguire are not good\\xe2\\x80\\xa6'\n",
      "b'Mama Africa battles start\\xf0\\x9f\\x9a\\xa8'\n",
      "b'RT @Tunnykvng: Moses Simon walks straight into the Manchester United team by the way.'\n",
      "b'They want to sign another Phil Jones but this time it\\xe2\\x80\\x99s color black \\xf0\\x9f\\x98\\xad'\n",
      "b'El astro portugu\\xc3\\xa9s arm\\xc3\\xb3 una rabieta tras ser sacado del partido y el DT del Manchester United revela lo que le dijo\\xe2\\x80\\xa6 https://t.co/ZS7Nya9Fai'\n",
      "b'RT @Jmfmourinho00: - Dani Alves au Bar\\xc3\\xa7a.\\n- Mourinho en Italie. \\n- Cr7 \\xc3\\xa0 Manchester United.  \\n- L\\xe2\\x80\\x99OM sur le podium. \\n- Des gens croient en\\xe2\\x80\\xa6'\n",
      "b'RT @breathMessi21: Ronaldo wants to play for 5 more years. God bless Manchester United\\xf0\\x9f\\x98\\x82\\xf0\\x9f\\x98\\x82'\n",
      "b'RT @footballdaily: \\xf0\\x9f\\x97\\xa3 \"We absolutely destroyed Man United first half. It\\'s a miracle they were not 2-0 down at half-time, De Gea did a fine\\xe2\\x80\\xa6'\n",
      "b'RT @brfootball: Elanga \\xe2\\x9a\\xbd\\nGreenwood \\xe2\\x9a\\xbd\\nRashford \\xe2\\x9a\\xbd\\n\\nA win made by the Manchester United academy \\xf0\\x9f\\x98\\xa4 https://t.co/YYghUzB69t'\n",
      "b'RT @Jmfmourinho00: - Dani Alves au Bar\\xc3\\xa7a.\\n- Mourinho en Italie. \\n- Cr7 \\xc3\\xa0 Manchester United.  \\n- L\\xe2\\x80\\x99OM sur le podium. \\n- Des gens croient en\\xe2\\x80\\xa6'\n",
      "b'RT @RW_afc: This guy ain\\xe2\\x80\\x99t serious\\xf0\\x9f\\x98\\xad\\xf0\\x9f\\x98\\xad https://t.co/fU9P2LE5Ut'\n",
      "b\"RT @GOALAfrica: \\xf0\\x9d\\x90\\x8c\\xf0\\x9d\\x90\\x80\\xf0\\x9d\\x90\\x8d\\xf0\\x9d\\x90\\x82\\xf0\\x9d\\x90\\x87\\xf0\\x9d\\x90\\x84\\xf0\\x9d\\x90\\x92\\xf0\\x9d\\x90\\x93\\xf0\\x9d\\x90\\x84\\xf0\\x9d\\x90\\x91 \\xf0\\x9d\\x90\\x91\\xf0\\x9d\\x90\\x88\\xf0\\x9d\\x90\\x95\\xf0\\x9d\\x90\\x80\\xf0\\x9d\\x90\\x8b\\xf0\\x9d\\x90\\x92 \\xf0\\x9d\\x90\\x93\\xf0\\x9d\\x90\\x8e \\xf0\\x9d\\x90\\x8c\\xf0\\x9d\\x90\\x84\\xf0\\x9d\\x90\\x84\\xf0\\x9d\\x90\\x93 \\xf0\\x9d\\x90\\x80\\xf0\\x9d\\x90\\x93 \\xf0\\x9d\\x90\\x92\\xf0\\x9d\\x90\\x93\\xf0\\x9d\\x90\\x80\\xf0\\x9d\\x90\\x83\\xf0\\x9d\\x90\\x84 \\xf0\\x9d\\x90\\x83\\xf0\\x9d\\x90\\x84 \\xf0\\x9d\\x90\\x89\\xf0\\x9d\\x90\\x80\\xf0\\x9d\\x90\\x8f\\xf0\\x9d\\x90\\x8e\\xf0\\x9d\\x90\\x8c\\xf0\\x9d\\x90\\x80,\\xf0\\x9d\\x90\\x83\\xf0\\x9d\\x90\\x8e\\xf0\\x9d\\x90\\x94\\xf0\\x9d\\x90\\x80\\xf0\\x9d\\x90\\x8b\\xf0\\x9d\\x90\\x80\\xf0\\x9f\\x94\\xb4\\xf0\\x9f\\x94\\xb5\\n\\nManchester United's Eric Baily &amp; Manchester City's Riyad Mahrez will\\xe2\\x80\\xa6\"\n",
      "b'RT @breathMessi21: Ronaldo wants to play for 5 more years. God bless Manchester United\\xf0\\x9f\\x98\\x82\\xf0\\x9f\\x98\\x82'\n",
      "b'RT @Jmfmourinho00: - Dani Alves au Bar\\xc3\\xa7a.\\n- Mourinho en Italie. \\n- Cr7 \\xc3\\xa0 Manchester United.  \\n- L\\xe2\\x80\\x99OM sur le podium. \\n- Des gens croient en\\xe2\\x80\\xa6'\n",
      "b'RT @Jmfmourinho00: - Dani Alves au Bar\\xc3\\xa7a.\\n- Mourinho en Italie. \\n- Cr7 \\xc3\\xa0 Manchester United.  \\n- L\\xe2\\x80\\x99OM sur le podium. \\n- Des gens croient en\\xe2\\x80\\xa6'\n",
      "b'@JohnDykesFC I think the leading clubs are the current top five plus Manchester United (sorry Arsenal) but the best\\xe2\\x80\\xa6 https://t.co/WOVaS0xJeV'\n",
      "b'RT @brfootball: David de Gea saving Manchester United time and time again \\xf0\\x9f\\xa7\\xa4 https://t.co/PsJX1BMIiB'\n",
      "b'RT @hadrien_grenier: Il y a encore des contacts entre Manchester United et Mauricio Pochettino \\xf0\\x9f\\x87\\xa6\\xf0\\x9f\\x87\\xb7. Son entourage a tout fait pour qu\\xe2\\x80\\x99il par\\xe2\\x80\\xa6'\n",
      "b'RT @nonewthing: These guys are the present and future for Manchester United. Not Catty Cristiano. https://t.co/hPyWxh0imA'\n",
      "b'RT @Bet9jaOfficial: Ralf Rangnick has told the Manchester United hierarchy that Luke Shaw, Aaron Wan-Bissaka and Harry Maguire are not good\\xe2\\x80\\xa6'\n",
      "b'RT @Jmfmourinho00: - Dani Alves au Bar\\xc3\\xa7a.\\n- Mourinho en Italie. \\n- Cr7 \\xc3\\xa0 Manchester United.  \\n- L\\xe2\\x80\\x99OM sur le podium. \\n- Des gens croient en\\xe2\\x80\\xa6'\n",
      "b\"RT @GOALAfrica: \\xf0\\x9d\\x90\\x8c\\xf0\\x9d\\x90\\x80\\xf0\\x9d\\x90\\x8d\\xf0\\x9d\\x90\\x82\\xf0\\x9d\\x90\\x87\\xf0\\x9d\\x90\\x84\\xf0\\x9d\\x90\\x92\\xf0\\x9d\\x90\\x93\\xf0\\x9d\\x90\\x84\\xf0\\x9d\\x90\\x91 \\xf0\\x9d\\x90\\x91\\xf0\\x9d\\x90\\x88\\xf0\\x9d\\x90\\x95\\xf0\\x9d\\x90\\x80\\xf0\\x9d\\x90\\x8b\\xf0\\x9d\\x90\\x92 \\xf0\\x9d\\x90\\x93\\xf0\\x9d\\x90\\x8e \\xf0\\x9d\\x90\\x8c\\xf0\\x9d\\x90\\x84\\xf0\\x9d\\x90\\x84\\xf0\\x9d\\x90\\x93 \\xf0\\x9d\\x90\\x80\\xf0\\x9d\\x90\\x93 \\xf0\\x9d\\x90\\x92\\xf0\\x9d\\x90\\x93\\xf0\\x9d\\x90\\x80\\xf0\\x9d\\x90\\x83\\xf0\\x9d\\x90\\x84 \\xf0\\x9d\\x90\\x83\\xf0\\x9d\\x90\\x84 \\xf0\\x9d\\x90\\x89\\xf0\\x9d\\x90\\x80\\xf0\\x9d\\x90\\x8f\\xf0\\x9d\\x90\\x8e\\xf0\\x9d\\x90\\x8c\\xf0\\x9d\\x90\\x80,\\xf0\\x9d\\x90\\x83\\xf0\\x9d\\x90\\x8e\\xf0\\x9d\\x90\\x94\\xf0\\x9d\\x90\\x80\\xf0\\x9d\\x90\\x8b\\xf0\\x9d\\x90\\x80\\xf0\\x9f\\x94\\xb4\\xf0\\x9f\\x94\\xb5\\n\\nManchester United's Eric Baily &amp; Manchester City's Riyad Mahrez will\\xe2\\x80\\xa6\"\n",
      "b'RT @Wex_WD: Words are left \\xe2\\x97\\x80\\xef\\xb8\\x8f'\n",
      "b'@TedStriker435 @ZinnySZN Football was different back then when a young Rooney signed for Manchester United for  20\\xe2\\x80\\xa6 https://t.co/gAGPrh3Tzc'\n",
      "b'RT @Arsenal: Full time: Manchester United 8-2 Arsenal.'\n",
      "b'RT @Jmfmourinho00: - Dani Alves au Bar\\xc3\\xa7a.\\n- Mourinho en Italie. \\n- Cr7 \\xc3\\xa0 Manchester United.  \\n- L\\xe2\\x80\\x99OM sur le podium. \\n- Des gens croient en\\xe2\\x80\\xa6'\n",
      "b'RT @Jmfmourinho00: - Dani Alves au Bar\\xc3\\xa7a.\\n- Mourinho en Italie. \\n- Cr7 \\xc3\\xa0 Manchester United.  \\n- L\\xe2\\x80\\x99OM sur le podium. \\n- Des gens croient en\\xe2\\x80\\xa6'\n",
      "b'RT @comradefyat: \\xf0\\x9f\\xa4\\xa3\\xf0\\x9f\\x98\\xad\\xf0\\x9f\\x98\\xad\\xf0\\x9f\\x98\\xad\\xf0\\x9f\\x98\\xad'\n",
      "b'RT @ManUnitedZone_: Manchester United become the first Premier League team to reach 300 away wins \\xf0\\x9f\\x94\\xb4'\n",
      "b'RT @Jmfmourinho00: - Dani Alves au Bar\\xc3\\xa7a.\\n- Mourinho en Italie. \\n- Cr7 \\xc3\\xa0 Manchester United.  \\n- L\\xe2\\x80\\x99OM sur le podium. \\n- Des gens croient en\\xe2\\x80\\xa6'\n",
      "b'RT @brfootball: David de Gea saving Manchester United time and time again \\xf0\\x9f\\xa7\\xa4 https://t.co/PsJX1BMIiB'\n",
      "b'Mais c\\xe2\\x80\\x99\\xc3\\xa9tait mon soonnn \\xc3\\xa7a \\xf0\\x9f\\x98\\xad\\xf0\\x9f\\x98\\xad'\n",
      "b'RT @MUFC_redarmy99: Brentford\\xe2\\x80\\x99s goal scorer: \\xc2\\xa310m\\nAll three of Man United\\xe2\\x80\\x99s goal scorers: \\xc2\\xa30.'\n",
      "b'RT @Akwaibomtoolz: Men who support Manchester United are special and simply the best, I love you all from the depth of my heart \\xe2\\x9d\\xa4 #MUFC'\n",
      "b'RT @MUFC_redarmy99: Brentford\\xe2\\x80\\x99s goal scorer: \\xc2\\xa310m\\nAll three of Man United\\xe2\\x80\\x99s goal scorers: \\xc2\\xa30.'\n",
      "b'\\xc2\\xab\\xc2\\xa0Si on fait une liste de favoris pour Paul Pogba \\xf0\\x9f\\x87\\xab\\xf0\\x9f\\x87\\xb7, le PSG a plus de chances que les autres face \\xc3\\xa0 la Juventus, a\\xe2\\x80\\xa6 https://t.co/0RD603hUyp'\n"
     ]
    },
    {
     "name": "stdout",
     "output_type": "stream",
     "text": [
      "b'RT @hadrien_grenier: \\xc2\\xab\\xc2\\xa0Si on fait une liste de favoris pour Paul Pogba \\xf0\\x9f\\x87\\xab\\xf0\\x9f\\x87\\xb7, le PSG a plus de chances que les autres face \\xc3\\xa0 la Juventus, au R\\xe2\\x80\\xa6'\n",
      "b'RT @FernandesZone: The players with the most goals contribution for Manchester United in the Premier League this season so far :\\n\\n\\xe2\\x80\\xa2 BRUNO F\\xe2\\x80\\xa6'\n",
      "b\"RT @killianactu: \\xf0\\x9f\\x94\\xb4 OFFICIEL ! Apr\\xc3\\xa8s Newcastle et Manchester United, West Ham s'int\\xc3\\xa9resse \\xc3\\xa0 Boubacar Kamara. \\xf0\\x9f\\xa4\\x8e\\xf0\\x9f\\x92\\x99\\xf0\\x9f\\x91\\x80\\n\\nvia (@lephoceen) | #TeamOM\\xe2\\x80\\xa6\"\n",
      "b'RT @RW_afc: This guy ain\\xe2\\x80\\x99t serious\\xf0\\x9f\\x98\\xad\\xf0\\x9f\\x98\\xad https://t.co/fU9P2LE5Ut'\n",
      "b'RT @marky_carter: The heart and soul of Manchester United. His legacy will always live on. . .. Sir Matt \\xe2\\x9d\\xa4\\xef\\xb8\\x8f #MUFC https://t.co/XEEJmUIxxX'\n",
      "b'RT @hadrien_grenier: \\xc2\\xab\\xc2\\xa0Si on fait une liste de favoris pour Paul Pogba \\xf0\\x9f\\x87\\xab\\xf0\\x9f\\x87\\xb7, le PSG a plus de chances que les autres face \\xc3\\xa0 la Juventus, au R\\xe2\\x80\\xa6'\n",
      "b'RT @brazil_pl: Com 24 assist\\xc3\\xaancias, Bruno Fernandes \\xc3\\xa9 o jogador com mais passes para gol na Premier League desde que estreou pelo Mancheste\\xe2\\x80\\xa6'\n",
      "b'RT @Jmfmourinho00: - Dani Alves au Bar\\xc3\\xa7a.\\n- Mourinho en Italie. \\n- Cr7 \\xc3\\xa0 Manchester United.  \\n- L\\xe2\\x80\\x99OM sur le podium. \\n- Des gens croient en\\xe2\\x80\\xa6'\n",
      "b'RT @EIIisV3: If you\\xe2\\x80\\x99re a Manchester United fan and have an agenda against David De Gea then your hard drive needs to be checked.'\n",
      "b'RT @RW_afc: This guy ain\\xe2\\x80\\x99t serious\\xf0\\x9f\\x98\\xad\\xf0\\x9f\\x98\\xad https://t.co/fU9P2LE5Ut'\n",
      "b'RT @Obacruze: Super eagles &gt;&gt;&gt;&gt;Manchester United.'\n",
      "b'RT @bae_manchester: Goodmorng friends of Manchester united \\xe2\\x9d\\xa4\\xef\\xb8\\x8f\\xe2\\x9d\\xa4\\xef\\xb8\\x8f\\xe2\\x9d\\xa4\\xef\\xb8\\x8f\\xe2\\x9d\\xa4\\xef\\xb8\\x8f\\xe2\\x9d\\xa4\\xef\\xb8\\x8f\\n\\nIts a Throw back\\nLet us be mutuals\\xf0\\x9f\\x98\\x98\\xf0\\x9f\\x98\\x98 https://t.co/JhpEbsLmrh'\n"
     ]
    },
    {
     "name": "stderr",
     "output_type": "stream",
     "text": [
      "Stream connection closed by Twitter\n"
     ]
    },
    {
     "name": "stdout",
     "output_type": "stream",
     "text": [
      "b'RT @RW_afc: This guy ain\\xe2\\x80\\x99t serious\\xf0\\x9f\\x98\\xad\\xf0\\x9f\\x98\\xad https://t.co/fU9P2LE5Ut'\n",
      "1642686828.1057696 1642686524.8286796 300\n"
     ]
    }
   ],
   "source": [
    "s = socket.socket()         # Create a socket object\n",
    "host = \"127.0.0.1\"     # Get local machine name\n",
    "port = 51602               # Reserve a port for your service.\n",
    "s.bind((host, port))        # Bind to the port\n",
    "print(\"Listening on port: %s\" % str(port))\n",
    "\n",
    "s.listen(5)                 # Now wait for client connection.\n",
    "c, addr = s.accept()        # Establish connection with client.\n",
    "\n",
    "print( \"Received request from: \" + str( addr ) )\n",
    "\n",
    "sendData( c )"
   ]
  },
  {
   "cell_type": "code",
   "execution_count": null,
   "id": "40bbccb9",
   "metadata": {},
   "outputs": [],
   "source": []
  }
 ],
 "metadata": {
  "kernelspec": {
   "display_name": "Python 3 (ipykernel)",
   "language": "python",
   "name": "python3"
  },
  "language_info": {
   "codemirror_mode": {
    "name": "ipython",
    "version": 3
   },
   "file_extension": ".py",
   "mimetype": "text/x-python",
   "name": "python",
   "nbconvert_exporter": "python",
   "pygments_lexer": "ipython3",
   "version": "3.9.7"
  }
 },
 "nbformat": 4,
 "nbformat_minor": 5
}
