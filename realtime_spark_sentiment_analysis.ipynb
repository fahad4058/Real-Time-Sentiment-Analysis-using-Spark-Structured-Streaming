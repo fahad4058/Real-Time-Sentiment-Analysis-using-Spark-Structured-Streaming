{
 "cells": [
  {
   "cell_type": "markdown",
   "id": "a990fad2",
   "metadata": {},
   "source": [
    "### Libraries/Modules Import and Initializations "
   ]
  },
  {
   "cell_type": "code",
   "execution_count": 1,
   "id": "0431c71d",
   "metadata": {},
   "outputs": [],
   "source": [
    "import tweepy\n",
    "import pandas as pd\n",
    "from tweepy import OAuthHandler \n",
    "from tweepy import Stream"
   ]
  },
  {
   "cell_type": "code",
   "execution_count": 2,
   "id": "1a990bcb",
   "metadata": {},
   "outputs": [],
   "source": [
    "from textblob import TextBlob\n",
    "import sys\n",
    "import tweepy\n",
    "import matplotlib.pyplot as plt\n",
    "import pandas as pd\n",
    "import numpy as np\n",
    "import os\n",
    "import nltk\n",
    "import pycountry\n",
    "import re\n",
    "import string\n",
    "from wordcloud import WordCloud, STOPWORDS\n",
    "from PIL import Image\n",
    "from nltk.sentiment.vader import SentimentIntensityAnalyzer\n",
    "from langdetect import detect\n",
    "from nltk.stem import SnowballStemmer\n",
    "from nltk.sentiment.vader import SentimentIntensityAnalyzer\n",
    "from sklearn.feature_extraction.text import CountVectorizer"
   ]
  },
  {
   "cell_type": "code",
   "execution_count": 3,
   "id": "662364db",
   "metadata": {},
   "outputs": [],
   "source": [
    "import os\n",
    "import sys\n",
    "\n",
    "os.environ['PYSPARK_PYTHON'] = sys.executable\n",
    "os.environ['PYSPARK_DRIVER_PYTHON'] = sys.executable\n",
    "\n",
    "import findspark\n",
    "findspark.init()\n",
    "findspark.find()\n",
    "import pyspark\n",
    "\n",
    "from pyspark.sql import SparkSession\n",
    "from pyspark import SparkContext, SparkConf\n",
    "from pyspark.sql import SQLContext\n",
    "\n",
    "\n",
    "from pyspark.sql.types import *\n",
    "from pyspark.sql.functions import regexp_replace\n",
    "from pyspark.sql.functions import * \n"
   ]
  },
  {
   "cell_type": "code",
   "execution_count": 4,
   "id": "59a05d96",
   "metadata": {},
   "outputs": [],
   "source": [
    "### Removing Emoticons and symbols/Pictographs\n",
    "import re\n",
    "def remove_emojis(data):\n",
    "    emoj = re.compile(\"[\"\n",
    "        u\"\\U0001F600-\\U0001F64F\"  # emoticons\n",
    "        u\"\\U0001F300-\\U0001F5FF\"  # symbols & pictographs\n",
    "        u\"\\U0001F680-\\U0001F6FF\"  # transport & map symbols\n",
    "        u\"\\U0001F1E0-\\U0001F1FF\"  # flags (iOS)\n",
    "        u\"\\U00002500-\\U00002BEF\"  # chinese char\n",
    "        u\"\\U00002702-\\U000027B0\"\n",
    "        u\"\\U00002702-\\U000027B0\"\n",
    "        u\"\\U000024C2-\\U0001F251\"\n",
    "        u\"\\U0001f926-\\U0001f937\"\n",
    "        u\"\\U00010000-\\U0010ffff\"\n",
    "        u\"\\u2640-\\u2642\" \n",
    "        u\"\\u2600-\\u2B55\"\n",
    "        u\"\\u200d\"\n",
    "        u\"\\u23cf\"\n",
    "        u\"\\u23e9\"\n",
    "        u\"\\u231a\"\n",
    "        u\"\\ufe0f\"  # dingbats\n",
    "        u\"\\u3030\"\n",
    "                      \"]+\", re.UNICODE)\n",
    "    return re.sub(emoj, '', data)\n",
    "\n",
    "remove_emojis_udf= udf(lambda x: remove_emojis(x),StringType())"
   ]
  },
  {
   "cell_type": "code",
   "execution_count": 5,
   "id": "3d716914",
   "metadata": {},
   "outputs": [],
   "source": [
    "#### Data Prep and Cleaning\n",
    "def preprocessing(lines):\n",
    "    words = lines.select(explode(split(lines.value, \"t_end\")).alias(\"text\"))\n",
    "    words = words.na.replace('', None)\n",
    "    words = words.na.drop(\"any\")\n",
    "    words = words.distinct()\n",
    "    words = words.withColumn('text', regexp_replace('text', r'http\\S+', ''))\n",
    "    words = words.withColumn('text', regexp_replace('text', '@\\w+', ''))\n",
    "    words = words.withColumn('text', regexp_replace('text', '#', ''))\n",
    "    words = words.withColumn('text', regexp_replace('text', 'RT', ''))\n",
    "    words = words.withColumn('text', regexp_replace('text', ':', ''))\n",
    "    words = words.withColumn('text', regexp_replace('text', \"[^A-Za-z0-9]+\",\" \"))\n",
    "    words = words.withColumn('text', regexp_replace('text', '  ', ' '))\n",
    "    words = words.withColumn('text', regexp_replace('text', '   ', ' '))\n",
    "    words = words.withColumn('text', regexp_replace('text', '-', ''))\n",
    "    words = words.withColumn('text', regexp_replace('text', '&amp;', ''))\n",
    "    words = words.withColumn('text', regexp_replace('text', '&quot;', ''))\n",
    "    words = words.withColumn('text', regexp_replace('text', '&gt;', ''))\n",
    "    words = words.withColumn('text', regexp_replace('text', '&it;', ''))\n",
    "    words = words.withColumn('text', lower(words[\"text\"]))\n",
    "    words = words.withColumn('text', remove_emojis_udf(\"text\"))    \n",
    "    return words"
   ]
  },
  {
   "cell_type": "code",
   "execution_count": 6,
   "id": "10a68b15",
   "metadata": {},
   "outputs": [],
   "source": [
    "# text classification\n",
    "def polarity_detection(text):\n",
    "    return TextBlob(text).sentiment.polarity\n",
    "def subjectivity_detection(text):\n",
    "    return TextBlob(text).sentiment.subjectivity\n",
    "def getSentimentScore(text):\n",
    "    analyzer = SentimentIntensityAnalyzer()\n",
    "    score = analyzer.polarity_scores(text)\n",
    "    neg = score['neg']\n",
    "    neu = score['neu']\n",
    "    pos = score['pos']\n",
    "    if neg > pos:\n",
    "        return  \"negative\"\n",
    "    elif pos > neg:\n",
    "        return \"positive\"\n",
    "    else:\n",
    "        return \"neutral\"\n",
    "\n",
    "def text_classification(words):\n",
    "    # polarity detection\n",
    "    polarity_detection_udf = udf(polarity_detection, StringType())\n",
    "    words = words.withColumn(\"polarity\", polarity_detection_udf(\"text\"))\n",
    "    # subjectivity detection\n",
    "    subjectivity_detection_udf = udf(subjectivity_detection, StringType())\n",
    "    words = words.withColumn(\"subjectivity\", subjectivity_detection_udf(\"text\"))\n",
    "    # Sentiment score\n",
    "    getSentimentScore_udf=udf(lambda x: getSentimentScore(x),StringType())\n",
    "    words = words.withColumn(\"sentiment\", getSentimentScore_udf(\"text\"))\n",
    "    return words        "
   ]
  },
  {
   "cell_type": "code",
   "execution_count": 7,
   "id": "a4e712a2",
   "metadata": {},
   "outputs": [
    {
     "data": {
      "text/html": [
       "\n",
       "            <div>\n",
       "                <p><b>SparkSession - in-memory</b></p>\n",
       "                \n",
       "        <div>\n",
       "            <p><b>SparkContext</b></p>\n",
       "\n",
       "            <p><a href=\"http://141.26.191.245:4040\">Spark UI</a></p>\n",
       "\n",
       "            <dl>\n",
       "              <dt>Version</dt>\n",
       "                <dd><code>v3.1.1</code></dd>\n",
       "              <dt>Master</dt>\n",
       "                <dd><code>local[4]</code></dd>\n",
       "              <dt>AppName</dt>\n",
       "                <dd><code>sentimentanalysis</code></dd>\n",
       "            </dl>\n",
       "        </div>\n",
       "        \n",
       "            </div>\n",
       "        "
      ],
      "text/plain": [
       "<pyspark.sql.session.SparkSession at 0x1d57bc03ee0>"
      ]
     },
     "execution_count": 7,
     "metadata": {},
     "output_type": "execute_result"
    }
   ],
   "source": [
    " # create Spark session\n",
    "conf = pyspark.SparkConf().setAppName('sentimentanalysis').setMaster('local[2]')\n",
    "sc = pyspark.SparkContext('local[4]',conf=conf)\n",
    "spark = SparkSession(sc)\n",
    "sqlcontext=SQLContext(sc)\n",
    "spark"
   ]
  },
  {
   "cell_type": "code",
   "execution_count": 8,
   "id": "2f7a2639",
   "metadata": {},
   "outputs": [],
   "source": [
    "# read the tweet data from socket\n",
    "lines_df = spark.readStream.format(\"socket\").option(\"host\", \"127.0.0.1\").option(\"port\", 51602).load()\n",
    "#lines_df = lines_df.withColumn(\"value\",tweets_translateudf(\"value\"))\n",
    "    # Preprocess the data\n",
    "words = preprocessing(lines_df)\n",
    "    # text classification to define polarity and subjectivity\n",
    "words = text_classification(words)\n",
    "words = words.repartition(1)\n",
    "words = words.groupBy(\"sentiment\").count().withColumn(\"time_stamp\",current_timestamp())\n"
   ]
  },
  {
   "cell_type": "code",
   "execution_count": 9,
   "id": "beff2d6c",
   "metadata": {},
   "outputs": [],
   "source": [
    "### Starts the stream and writes it to the console/csv/parquet or in memory\n",
    "### The sentiments are displayed on the terminal\n",
    "query=words \\\n",
    "    .writeStream.queryName(\"sentiment_analysis\") \\\n",
    "    .outputMode(\"complete\") \\\n",
    "    .format(\"memory\").trigger(processingTime='2 seconds') \\\n",
    "    .start()"
   ]
  },
  {
   "cell_type": "code",
   "execution_count": 10,
   "id": "15209612",
   "metadata": {},
   "outputs": [
    {
     "data": {
      "text/plain": [
       "False"
      ]
     },
     "execution_count": 10,
     "metadata": {},
     "output_type": "execute_result"
    }
   ],
   "source": [
    "query.awaitTermination(timeout=300)\n"
   ]
  },
  {
   "cell_type": "code",
   "execution_count": 11,
   "id": "699bbbd7",
   "metadata": {},
   "outputs": [
    {
     "data": {
      "text/plain": [
       "True"
      ]
     },
     "execution_count": 11,
     "metadata": {},
     "output_type": "execute_result"
    }
   ],
   "source": [
    "query.isActive"
   ]
  },
  {
   "cell_type": "code",
   "execution_count": 12,
   "id": "a8aa84c2",
   "metadata": {},
   "outputs": [
    {
     "name": "stdout",
     "output_type": "stream",
     "text": [
      "+---------+-----+----------+\n",
      "|sentiment|count|time_stamp|\n",
      "+---------+-----+----------+\n",
      "+---------+-----+----------+\n",
      "\n",
      "+---------+-----+----------+\n",
      "|sentiment|count|time_stamp|\n",
      "+---------+-----+----------+\n",
      "+---------+-----+----------+\n",
      "\n",
      "+---------+-----+----------+\n",
      "|sentiment|count|time_stamp|\n",
      "+---------+-----+----------+\n",
      "+---------+-----+----------+\n",
      "\n",
      "+---------+-----+--------------------+\n",
      "|sentiment|count|          time_stamp|\n",
      "+---------+-----+--------------------+\n",
      "| positive|   68|2022-01-20 14:52:...|\n",
      "|  neutral|   39|2022-01-20 14:52:...|\n",
      "| negative|   11|2022-01-20 14:52:...|\n",
      "+---------+-----+--------------------+\n",
      "\n"
     ]
    },
    {
     "data": {
      "image/png": "[encoded data removed]",
      "text/plain": [
       "<Figure size 1080x360 with 1 Axes>"
      ]
     },
     "metadata": {},
     "output_type": "display_data"
    },
    {
     "name": "stdout",
     "output_type": "stream",
     "text": [
      "+---------+-----+--------------------+\n",
      "|sentiment|count|          time_stamp|\n",
      "+---------+-----+--------------------+\n",
      "| positive|   77|2022-01-20 14:56:...|\n",
      "|  neutral|   43|2022-01-20 14:56:...|\n",
      "| negative|   11|2022-01-20 14:56:...|\n",
      "+---------+-----+--------------------+\n",
      "\n"
     ]
    },
    {
     "data": {
      "image/png": "[encoded data removed]",
      "text/plain": [
       "<Figure size 1080x360 with 1 Axes>"
      ]
     },
     "metadata": {},
     "output_type": "display_data"
    },
    {
     "name": "stdout",
     "output_type": "stream",
     "text": [
      "+---------+-----+--------------------+\n",
      "|sentiment|count|          time_stamp|\n",
      "+---------+-----+--------------------+\n",
      "| positive|   77|2022-01-20 14:56:...|\n",
      "|  neutral|   43|2022-01-20 14:56:...|\n",
      "| negative|   11|2022-01-20 14:56:...|\n",
      "+---------+-----+--------------------+\n",
      "\n"
     ]
    },
    {
     "data": {
      "image/png": "[encoded data removed]",
      "text/plain": [
       "<Figure size 1080x360 with 1 Axes>"
      ]
     },
     "metadata": {},
     "output_type": "display_data"
    },
    {
     "data": {
      "text/plain": [
       "False"
      ]
     },
     "execution_count": 12,
     "metadata": {},
     "output_type": "execute_result"
    }
   ],
   "source": [
    "from time import sleep\n",
    "from pandas.plotting import table\n",
    "import matplotlib.pyplot as plt\n",
    "import cv2\n",
    "count=0\n",
    "while(query.isActive):\n",
    "    sleep(60)\n",
    "    result_df=spark.sql(\"SELECT * FROM sentiment_analysis\")\n",
    "    result_df.show()\n",
    "    data=result_df.toPandas()\n",
    "    if not data.empty:\n",
    "        ax1 = plt.subplot(121, aspect='equal')\n",
    "        data.plot(kind='pie', y = 'count', ax=ax1, autopct='%1.1f%%', figsize=(15,5),\n",
    "         startangle=45, shadow=True, labels=data['sentiment'], legend = False, fontsize=10)\n",
    "        # plot table\n",
    "        plt.axis('off') \n",
    "        plt.show()\n",
    "        count += 1\n",
    "    if count>=3:\n",
    "        break\n",
    "query.stop()\n",
    "query.isActive"
   ]
  },
  {
   "cell_type": "code",
   "execution_count": 13,
   "id": "c8647ff7",
   "metadata": {},
   "outputs": [
    {
     "data": {
      "text/plain": [
       "False"
      ]
     },
     "execution_count": 13,
     "metadata": {},
     "output_type": "execute_result"
    }
   ],
   "source": [
    "query.isActive\n",
    "    "
   ]
  },
  {
   "cell_type": "code",
   "execution_count": 14,
   "id": "172b8d93",
   "metadata": {},
   "outputs": [
    {
     "data": {
      "text/plain": [
       "{'message': 'Stopped', 'isDataAvailable': False, 'isTriggerActive': False}"
      ]
     },
     "execution_count": 14,
     "metadata": {},
     "output_type": "execute_result"
    }
   ],
   "source": [
    "query.status"
   ]
  }
 ],
 "metadata": {
  "kernelspec": {
   "display_name": "Python 3 (ipykernel)",
   "language": "python",
   "name": "python3"
  },
  "language_info": {
   "codemirror_mode": {
    "name": "ipython",
    "version": 3
   },
   "file_extension": ".py",
   "mimetype": "text/x-python",
   "name": "python",
   "nbconvert_exporter": "python",
   "pygments_lexer": "ipython3",
   "version": "3.9.7"
  }
 },
 "nbformat": 4,
 "nbformat_minor": 5
}
